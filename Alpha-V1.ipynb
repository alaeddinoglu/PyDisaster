{
 "cells": [
  {
   "cell_type": "code",
   "execution_count": 1,
   "metadata": {},
   "outputs": [],
   "source": [
    "import pandas as pd\n",
    "import requests\n",
    "#import piexif - Do not need PIEXIF\n",
    "from google.cloud import vision\n",
    "from google.cloud.vision import types\n",
    "from google.oauth2 import service_account\n",
    "import os\n",
    "import io\n",
    "import json\n",
    "from flask import Flask, render_template, request\n",
    "from werkzeug.utils import secure_filename\n",
    "from PIL import Image\n",
    "from PIL.ExifTags import TAGS, GPSTAGS\n",
    "from bs4 import BeautifulSoup"
   ]
  },
  {
   "cell_type": "code",
   "execution_count": 21,
   "metadata": {},
   "outputs": [],
   "source": [
    "FOLDER = '/Documents/Uploads'\n",
    "APIKEY = pd.read_csv('/Users/anshul/Documents/APIKEYS/google_api_key.csv')\n",
    "GOOGLE_SERVICE = '/Users/anshul/Downloads/My Project-93e8fa84a8bb.json'\n",
    "N_ADDRESS = 4\n",
    "trial_photo_location = 'Assets/trial.jpg'\n",
    "new_columns = ['GPSLongitude', 'GPSLatitudeRef', 'GPSLatitude', 'GPSLongitudeRef']\n",
    "new_columns_2 = ['4', '1', '2', '3']\n",
    "\n",
    "#Instantiating Flask:\n",
    "app = Flask(__name__)\n",
    "app.config['UPLOAD_FOLDER'] = FOLDER\n",
    "\n",
    "#Open an Image:\n",
    "def get_exif_data(img):\n",
    "    exif = Image.open(img)._getexif()\n",
    "    if exif is not None:\n",
    "        for key, value in exif.items():\n",
    "            name = TAGS.get(key, key)\n",
    "            exif[name] = exif.pop(key)\n",
    "    else:\n",
    "        return print(\"No GPS/Location Data Exists!\")\n",
    "            \n",
    "    if 'GPSInfo' in exif: #Exif/GPS data is lost when an image is uploaded to Slack, we NEED RAW data.\n",
    "        for key in exif['GPSInfo'].keys():\n",
    "            name = GPSTAGS.get(key, key)\n",
    "            exif['GPSInfo'][name] = exif['GPSInfo'].pop(key)\n",
    "            \n",
    "        exif_df = pd.DataFrame.from_dict(exif['GPSInfo'], orient='index') # Save to DataFrame from Dictionary\n",
    "        exif_df = exif_df.T[new_columns]\n",
    "        exif_datetime = pd.DataFrame.from_dict(exif, orient='index') # Isolate DateTimeOriginal from original exif dictionary\n",
    "        exif_df['DateTimeOriginal'] = exif_datetime.T['DateTimeOriginal'] # Add new column to exif_df with DateTimeOriginal\n",
    "        \n",
    "        return exif_df    \n",
    "\n",
    "    if '34853' in exif: #Exif data from Android phones\n",
    "        for key in exif['34853'].keys():\n",
    "            name = GPSTAGS.get(key, key)\n",
    "            exif['34853'][name] = exif['34853'].pop(key)\n",
    "            \n",
    "        exif_df_android = pd.DataFrame.from_dict(exif['34853'], orient='index') # Save to DataFrame from Dictionary\n",
    "        exif_df_android = exif_df_android.T[new_columns]\n",
    "        exif_datetime_android = pd.DataFrame.from_dict(exif, orient='index') # Isolate DateTimeOriginal from original exif dictionary\n",
    "        exif_df_android['DateTimeOriginal'] = exif_datetime_android.T['DateTimeOriginal'] # Add new column to exif_df with DateTimeOriginal\n",
    "        \n",
    "        return exif_df_android\n",
    "       \n",
    "\n",
    "    #return exix"
   ]
  },
  {
   "cell_type": "code",
   "execution_count": 23,
   "metadata": {},
   "outputs": [
    {
     "ename": "NameError",
     "evalue": "name 'exif_df_android' is not defined",
     "output_type": "error",
     "traceback": [
      "\u001b[0;31m---------------------------------------------------------------------------\u001b[0m",
      "\u001b[0;31mNameError\u001b[0m                                 Traceback (most recent call last)",
      "\u001b[0;32m<ipython-input-23-240d14809414>\u001b[0m in \u001b[0;36m<module>\u001b[0;34m\u001b[0m\n\u001b[1;32m      1\u001b[0m \u001b[0mget_exif_data\u001b[0m\u001b[0;34m(\u001b[0m\u001b[0;34m'Assets/trial2.jpg'\u001b[0m\u001b[0;34m)\u001b[0m\u001b[0;34m\u001b[0m\u001b[0;34m\u001b[0m\u001b[0m\n\u001b[0;32m----> 2\u001b[0;31m \u001b[0mexif_df_android\u001b[0m\u001b[0;34m.\u001b[0m\u001b[0mhead\u001b[0m\u001b[0;34m(\u001b[0m\u001b[0;34m)\u001b[0m\u001b[0;34m\u001b[0m\u001b[0;34m\u001b[0m\u001b[0m\n\u001b[0m",
      "\u001b[0;31mNameError\u001b[0m: name 'exif_df_android' is not defined"
     ]
    }
   ],
   "source": [
    "get_exif_data('Assets/trial2.jpg')"
   ]
  },
  {
   "cell_type": "code",
   "execution_count": null,
   "metadata": {},
   "outputs": [],
   "source": []
  }
 ],
 "metadata": {
  "kernelspec": {
   "display_name": "Python 3",
   "language": "python",
   "name": "python3"
  },
  "language_info": {
   "codemirror_mode": {
    "name": "ipython",
    "version": 3
   },
   "file_extension": ".py",
   "mimetype": "text/x-python",
   "name": "python",
   "nbconvert_exporter": "python",
   "pygments_lexer": "ipython3",
   "version": "3.7.6"
  }
 },
 "nbformat": 4,
 "nbformat_minor": 4
}
