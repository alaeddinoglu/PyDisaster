{
 "cells": [
  {
   "cell_type": "code",
   "execution_count": 1,
   "metadata": {},
   "outputs": [],
   "source": [
    "import pandas as pd\n",
    "import requests\n",
    "#import piexif - Do not need PIEXIF\n",
    "from google.cloud import vision\n",
    "from google.cloud.vision import types\n",
    "from google.oauth2 import service_account\n",
    "import os\n",
    "import io\n",
    "import json\n",
    "from flask import Flask, render_template, request\n",
    "from werkzeug.utils import secure_filename\n",
    "from PIL import Image\n",
    "from PIL.ExifTags import TAGS, GPSTAGS\n",
    "from bs4 import BeautifulSoup"
   ]
  },
  {
   "cell_type": "code",
   "execution_count": 70,
   "metadata": {},
   "outputs": [],
   "source": [
    "FOLDER = '/Documents/Uploads'\n",
    "APIKEY = pd.read_csv('/Users/anshul/Documents/APIKEYS/google_api_key.csv')\n",
    "GOOGLE_SERVICE = '/Users/anshul/Downloads/My Project-93e8fa84a8bb.json'\n",
    "N_ADDRESS = 4\n",
    "trial_photo_location = 'Assets/trial.jpg'\n",
    "new_columns = ['GPSLongitude', 'GPSLatitudeRef', 'GPSLatitude', 'GPSLongitudeRef']\n",
    "new_columns_2 = [4, 1, 2, 3]\n",
    "\n",
    "#Instantiating Flask:\n",
    "app = Flask(__name__)\n",
    "app.config['UPLOAD_FOLDER'] = FOLDER\n",
    "\n",
    "#Open an Image:\n",
    "def get_exif_data(img):\n",
    "    exif = Image.open(img)._getexif()\n",
    "    if exif is not None:\n",
    "        for key, value in exif.items():\n",
    "            name = TAGS.get(key, key)\n",
    "            exif[name] = exif.pop(key)\n",
    "    else:\n",
    "        return print(\"No GPS/Location Data Exists!\")\n",
    "            \n",
    "    if 'GPSInfo' in exif: #Exif/GPS data is lost when an image is uploaded to Slack, we NEED RAW data.\n",
    "        for key in exif['GPSInfo'].keys():\n",
    "            name = GPSTAGS.get(key, key)\n",
    "            exif['GPSInfo'][name] = exif['GPSInfo'].pop(key)\n",
    "            \n",
    "            exif_df = pd.DataFrame.from_dict(exif['GPSInfo'], orient='index') # Save to DataFrame from Dictionary\n",
    "            exif_df = exif_df.T[new_columns]\n",
    "            exif_datetime = pd.DataFrame.from_dict(exif, orient='index') # Isolate DateTimeOriginal from original exif dictionary\n",
    "            exif_df['DateTimeOriginal'] = exif_datetime.T['DateTimeOriginal'] # Add new column to exif_df with DateTimeOriginal\n",
    "        \n",
    "            return exif_df    \n",
    "    \n",
    "    elif 34853 in exif:\n",
    "        for key in exif[34853].keys():\n",
    "            name = GPSTAGS.get(key, key)\n",
    "            exif[34853][name] = exif[34853].pop(key)\n",
    "            \n",
    "            # working for android for getting gps\n",
    "            exif_df_android = pd.DataFrame.from_dict(trial_android[34853], orient='index') # Save to DataFrame from Dictionary\n",
    "            exif_df_android = exif_df_android.T[new_columns_2]\n",
    "            exif_df_android['DateTimeOriginal'] = trial_android['DateTimeOriginal']\n",
    "        \n",
    "            return exif_df_android\n",
    "    \n",
    "        else:\n",
    "            return print(\"Line 41\")"
   ]
  },
  {
   "cell_type": "code",
   "execution_count": 71,
   "metadata": {},
   "outputs": [
    {
     "ename": "NameError",
     "evalue": "name 'trial_android' is not defined",
     "output_type": "error",
     "traceback": [
      "\u001b[0;31m---------------------------------------------------------------------------\u001b[0m",
      "\u001b[0;31mNameError\u001b[0m                                 Traceback (most recent call last)",
      "\u001b[0;32m<ipython-input-71-8536b7ac67fc>\u001b[0m in \u001b[0;36m<module>\u001b[0;34m\u001b[0m\n\u001b[0;32m----> 1\u001b[0;31m \u001b[0mget_exif_data\u001b[0m\u001b[0;34m(\u001b[0m\u001b[0;34m'Assets/trial2.jpg'\u001b[0m\u001b[0;34m)\u001b[0m\u001b[0;34m\u001b[0m\u001b[0;34m\u001b[0m\u001b[0m\n\u001b[0m",
      "\u001b[0;32m<ipython-input-70-47ddc7f81f74>\u001b[0m in \u001b[0;36mget_exif_data\u001b[0;34m(img)\u001b[0m\n\u001b[1;32m     39\u001b[0m \u001b[0;34m\u001b[0m\u001b[0m\n\u001b[1;32m     40\u001b[0m             \u001b[0;31m# working for android for getting gps\u001b[0m\u001b[0;34m\u001b[0m\u001b[0;34m\u001b[0m\u001b[0;34m\u001b[0m\u001b[0m\n\u001b[0;32m---> 41\u001b[0;31m             \u001b[0mexif_df_android\u001b[0m \u001b[0;34m=\u001b[0m \u001b[0mpd\u001b[0m\u001b[0;34m.\u001b[0m\u001b[0mDataFrame\u001b[0m\u001b[0;34m.\u001b[0m\u001b[0mfrom_dict\u001b[0m\u001b[0;34m(\u001b[0m\u001b[0mtrial_android\u001b[0m\u001b[0;34m[\u001b[0m\u001b[0;36m34853\u001b[0m\u001b[0;34m]\u001b[0m\u001b[0;34m,\u001b[0m \u001b[0morient\u001b[0m\u001b[0;34m=\u001b[0m\u001b[0;34m'index'\u001b[0m\u001b[0;34m)\u001b[0m \u001b[0;31m# Save to DataFrame from Dictionary\u001b[0m\u001b[0;34m\u001b[0m\u001b[0;34m\u001b[0m\u001b[0m\n\u001b[0m\u001b[1;32m     42\u001b[0m             \u001b[0mexif_df_android\u001b[0m \u001b[0;34m=\u001b[0m \u001b[0mexif_df_android\u001b[0m\u001b[0;34m.\u001b[0m\u001b[0mT\u001b[0m\u001b[0;34m[\u001b[0m\u001b[0mnew_columns_2\u001b[0m\u001b[0;34m]\u001b[0m\u001b[0;34m\u001b[0m\u001b[0;34m\u001b[0m\u001b[0m\n\u001b[1;32m     43\u001b[0m             \u001b[0mexif_df_android\u001b[0m\u001b[0;34m[\u001b[0m\u001b[0;34m'DateTimeOriginal'\u001b[0m\u001b[0;34m]\u001b[0m \u001b[0;34m=\u001b[0m \u001b[0mtrial_android\u001b[0m\u001b[0;34m[\u001b[0m\u001b[0;34m'DateTimeOriginal'\u001b[0m\u001b[0;34m]\u001b[0m\u001b[0;34m\u001b[0m\u001b[0;34m\u001b[0m\u001b[0m\n",
      "\u001b[0;31mNameError\u001b[0m: name 'trial_android' is not defined"
     ]
    }
   ],
   "source": [
    "get_exif_data('Assets/trial2.jpg')"
   ]
  },
  {
   "cell_type": "code",
   "execution_count": 49,
   "metadata": {
    "collapsed": true,
    "jupyter": {
     "outputs_hidden": true,
     "source_hidden": true
    }
   },
   "outputs": [
    {
     "ename": "IndentationError",
     "evalue": "unexpected indent (<ipython-input-49-8599ec8103c9>, line 6)",
     "output_type": "error",
     "traceback": [
      "\u001b[0;36m  File \u001b[0;32m\"<ipython-input-49-8599ec8103c9>\"\u001b[0;36m, line \u001b[0;32m6\u001b[0m\n\u001b[0;31m    exif_df_android = pd.DataFrame.from_dict(exif['34853'], orient='index') # Save to DataFrame from Dictionary\u001b[0m\n\u001b[0m    ^\u001b[0m\n\u001b[0;31mIndentationError\u001b[0m\u001b[0;31m:\u001b[0m unexpected indent\n"
     ]
    }
   ],
   "source": [
    "## if '34853' in exif: #Exif data from Android phones\n",
    "#        for key in exif['34853'].keys():\n",
    "#            name = GPSTAGS.get(key, key)\n",
    "#            exif['34853'][name] = exif['34853'].pop(key)\n",
    "            \n",
    "        exif_df_android = pd.DataFrame.from_dict(exif['34853'], orient='index') # Save to DataFrame from Dictionary\n",
    "        exif_df_android = exif_df_android.T[new_columns]\n",
    "        exif_datetime_android = pd.DataFrame.from_dict(exif, orient='index') # Isolate DateTimeOriginal from original exif dictionary\n",
    "        exif_df_android['DateTimeOriginal'] = exif_datetime_android.T['DateTimeOriginal'] # Add new column to exif_df with DateTimeOriginal\n",
    "        \n",
    "        return exif_df_android"
   ]
  },
  {
   "cell_type": "code",
   "execution_count": 92,
   "metadata": {},
   "outputs": [],
   "source": [
    "FOLDER = '/Documents/Uploads'\n",
    "APIKEY = pd.read_csv('/Users/anshul/Documents/APIKEYS/google_api_key.csv')\n",
    "GOOGLE_SERVICE = '/Users/anshul/Downloads/My Project-93e8fa84a8bb.json'\n",
    "N_ADDRESS = 4\n",
    "trial_photo_location = 'Assets/trial.jpg'\n",
    "new_columns = ['GPSLongitude', 'GPSLatitudeRef', 'GPSLatitude', 'GPSLongitudeRef']\n",
    "\n",
    "#Instantiating Flask:\n",
    "app = Flask(__name__)\n",
    "app.config['UPLOAD_FOLDER'] = FOLDER\n",
    "\n",
    "def get_exif_data(img):\n",
    "    exif = Image.open(img)._getexif()\n",
    "    if exif is not None:\n",
    "        for key, value in exif.items():\n",
    "            name = TAGS.get(key, key)\n",
    "            exif[name] = exif.pop(key)\n",
    "    else:\n",
    "        return print(\"No GPS/Location Data Exists!\")\n",
    "   \n",
    "    # Iphone\n",
    "    if 'GPSInfo' in exif: #Exif/GPS data is lost when an image is uploaded to Slack, we NEED RAW data.\n",
    "        for key in exif['GPSInfo'].keys():\n",
    "            name = GPSTAGS.get(key, key)\n",
    "            exif['GPSInfo'][name] = exif['GPSInfo'].pop(key)\n",
    "        exif_df = pd.DataFrame.from_dict(exif['GPSInfo'], orient='index') # Save to DataFrame from Dictionary\n",
    "        exif_df = exif_df.T[new_columns]\n",
    "        exif_datetime = pd.DataFrame.from_dict(exif, orient='index') # Isolate DateTimeOriginal from original exif dictionary\n",
    "        exif_df['DateTimeOriginal'] = exif_datetime.T['DateTimeOriginal'] # Add new column to exif_df with DateTimeOriginal\n",
    "        return exif_df  \n",
    "    \n",
    "    # Android\n",
    "    if 34853 in exif: #Exif data from Android phones\n",
    "        for key in exif[34853].keys():\n",
    "            name = GPSTAGS.get(key, key)\n",
    "            exif[34853][name] = exif[34853].pop(key)\n",
    "        exif_df_android = pd.DataFrame.from_dict(exif[34853], orient='index') \n",
    "        exif_df_android = exif_df_android.T[new_columns]\n",
    "        exif_df_android['DateTimeOriginal'] = exif['DateTimeOriginal']\n",
    "\n",
    "        return exif_df_android"
   ]
  },
  {
   "cell_type": "code",
   "execution_count": 93,
   "metadata": {},
   "outputs": [
    {
     "data": {
      "text/html": [
       "<div>\n",
       "<style scoped>\n",
       "    .dataframe tbody tr th:only-of-type {\n",
       "        vertical-align: middle;\n",
       "    }\n",
       "\n",
       "    .dataframe tbody tr th {\n",
       "        vertical-align: top;\n",
       "    }\n",
       "\n",
       "    .dataframe thead th {\n",
       "        text-align: right;\n",
       "    }\n",
       "</style>\n",
       "<table border=\"1\" class=\"dataframe\">\n",
       "  <thead>\n",
       "    <tr style=\"text-align: right;\">\n",
       "      <th></th>\n",
       "      <th>GPSLongitude</th>\n",
       "      <th>GPSLatitudeRef</th>\n",
       "      <th>GPSLatitude</th>\n",
       "      <th>GPSLongitudeRef</th>\n",
       "      <th>DateTimeOriginal</th>\n",
       "    </tr>\n",
       "  </thead>\n",
       "  <tbody>\n",
       "    <tr>\n",
       "      <th>0</th>\n",
       "      <td>((122, 1), (22, 1), (1989, 100))</td>\n",
       "      <td>N</td>\n",
       "      <td>((47, 1), (38, 1), (1033, 100))</td>\n",
       "      <td>W</td>\n",
       "      <td>2020:06:11 12:01:35</td>\n",
       "    </tr>\n",
       "  </tbody>\n",
       "</table>\n",
       "</div>"
      ],
      "text/plain": [
       "                       GPSLongitude GPSLatitudeRef  \\\n",
       "0  ((122, 1), (22, 1), (1989, 100))              N   \n",
       "\n",
       "                       GPSLatitude GPSLongitudeRef     DateTimeOriginal  \n",
       "0  ((47, 1), (38, 1), (1033, 100))               W  2020:06:11 12:01:35  "
      ]
     },
     "execution_count": 93,
     "metadata": {},
     "output_type": "execute_result"
    }
   ],
   "source": [
    "get_exif_data('Assets/trial.jpg')"
   ]
  },
  {
   "cell_type": "code",
   "execution_count": null,
   "metadata": {},
   "outputs": [],
   "source": []
  }
 ],
 "metadata": {
  "kernelspec": {
   "display_name": "Python 3",
   "language": "python",
   "name": "python3"
  },
  "language_info": {
   "codemirror_mode": {
    "name": "ipython",
    "version": 3
   },
   "file_extension": ".py",
   "mimetype": "text/x-python",
   "name": "python",
   "nbconvert_exporter": "python",
   "pygments_lexer": "ipython3",
   "version": "3.7.6"
  }
 },
 "nbformat": 4,
 "nbformat_minor": 4
}
